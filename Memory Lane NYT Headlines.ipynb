{
 "cells": [
  {
   "cell_type": "code",
   "execution_count": null,
   "id": "bc6edf61-0cd1-4335-9e32-d67c8dce6b52",
   "metadata": {},
   "outputs": [],
   "source": [
    "!pip install fastapi uvicorn requests python-dateutil nest_asyncio pyngrok -q\n"
   ]
  },
  {
   "cell_type": "code",
   "execution_count": null,
   "id": "2e3fd236-1fe3-42d2-a977-ad7d5bad6346",
   "metadata": {},
   "outputs": [],
   "source": [
    "from dotenv import load_dotenv\n",
    "import os\n",
    "\n",
    "load_dotenv()\n",
    "NYT_API_KEY = os.getenv(\"NYT_API_KEY\")\n"
   ]
  },
  {
   "cell_type": "code",
   "execution_count": null,
   "id": "d0c13e9c-952f-405b-93cc-1b0408dbef1c",
   "metadata": {},
   "outputs": [],
   "source": [
    "from dateutil.parser import isoparse\n",
    "\n",
    "DATE_STR = \"2002-08-15\"   # Change this to any YYYY-MM-DD you want\n",
    "target_date = isoparse(DATE_STR).date()\n",
    "\n",
    "print(\"Using date:\", target_date)\n"
   ]
  },
  {
   "cell_type": "code",
   "execution_count": null,
   "id": "d0d8d220-882a-4b7f-8dcb-2d711a77144b",
   "metadata": {},
   "outputs": [],
   "source": [
    "import requests\n",
    "\n",
    "year = target_date.year\n",
    "month = target_date.month\n",
    "url = f\"https://api.nytimes.com/svc/archive/v1/{year}/{month}.json\"\n",
    "\n",
    "params = {\"api-key\": NYT_API_KEY}\n",
    "response = requests.get(url, params=params, timeout=30)\n",
    "\n",
    "print(\"HTTP Status:\", response.status_code)\n"
   ]
  },
  {
   "cell_type": "code",
   "execution_count": null,
   "id": "e209689b-5ed2-42f3-b443-54245c09881f",
   "metadata": {},
   "outputs": [],
   "source": [
    "data = response.json()\n",
    "docs = data[\"response\"][\"docs\"]\n",
    "\n",
    "count = 0\n",
    "for d in docs:\n",
    "    pub_date = d[\"pub_date\"][:10]   # first 10 chars = YYYY-MM-DD\n",
    "    if pub_date == DATE_STR:\n",
    "        count += 1\n",
    "\n",
    "print(\"Articles on this day:\", count)\n"
   ]
  },
  {
   "cell_type": "code",
   "execution_count": null,
   "id": "c0848a5f-ca2c-4783-b35d-c36b5f0269cb",
   "metadata": {},
   "outputs": [],
   "source": [
    "for d in docs:\n",
    "    pub_date = d[\"pub_date\"][:10]\n",
    "    if pub_date == DATE_STR:\n",
    "        print(\"-\", d[\"headline\"][\"main\"])\n"
   ]
  },
  {
   "cell_type": "code",
   "execution_count": null,
   "id": "f2781705-222e-41f4-9a63-526d90c39076",
   "metadata": {},
   "outputs": [],
   "source": [
    "# Scoring of headlines\n",
    "\n",
    "section_points = {\n",
    "    \"World\": 3, \"U.S.\": 3,\n",
    "    \"Business\": 2, \"Technology\": 2, \"Science\": 2, \"Health\": 2,\n",
    "    \"Sports\": 1, \"Arts\": 1\n",
    "}\n",
    "\n",
    "def score(article):\n",
    "    points = section_points.get(article.get(\"section_name\"), 0)\n",
    "    if article.get(\"type_of_material\") in {\"News\", \"Front Page\"}:\n",
    "        points += 2\n",
    "    return points\n",
    "\n",
    "# Filter for the chosen date\n",
    "articles_for_day = [a for a in docs if a.get(\"pub_date\", \"\")[:10] == DATE_STR]\n",
    "\n",
    "# Sort by score\n",
    "articles_for_day.sort(key=score, reverse=True)\n",
    "\n",
    "# Print top 10\n",
    "print(f\"Top 10 NYT headlines for {DATE_STR}:\\n\")\n",
    "for i, a in enumerate(articles_for_day[:10], start=1):\n",
    "    print(f\"{i}. {a['headline']['main']}  [{a.get('section_name')}]\")\n",
    "    print(f\"   {a['web_url']}\\n\")\n"
   ]
  },
  {
   "cell_type": "code",
   "execution_count": null,
   "id": "43490917-25eb-4d28-bc91-eba35389b7c1",
   "metadata": {},
   "outputs": [],
   "source": [
    "import csv\n",
    "from IPython.display import FileLink\n",
    "\n",
    "# Save CSV\n",
    "filename = f\"top10_{DATE_STR}.csv\"\n",
    "with open(filename, \"w\", newline=\"\", encoding=\"utf-8\") as f:\n",
    "    writer = csv.writer(f)\n",
    "    writer.writerow([\"Rank\", \"Headline\", \"Section\", \"URL\"])\n",
    "    for i, a in enumerate(articles_for_day[:10], start=1):\n",
    "        writer.writerow([i, a[\"headline\"][\"main\"], a.get(\"section_name\"), a[\"web_url\"]])\n",
    "\n",
    "# Download link\n",
    "FileLink(filename)\n"
   ]
  },
  {
   "cell_type": "code",
   "execution_count": null,
   "id": "85e15c19-7edf-43ca-8431-0c3a1e661c29",
   "metadata": {},
   "outputs": [],
   "source": [
    "# --- Part 2: REST API with FastAPI ---\n",
    "\n",
    "from fastapi import FastAPI, Query\n",
    "import nest_asyncio, uvicorn\n",
    "\n",
    "nest_asyncio.apply()  # Run FastAPI inside Jupyter\n",
    "\n",
    "app = FastAPI()\n",
    "\n",
    "@app.get(\"/headlines\")\n",
    "def headlines(\n",
    "    date: str = Query(..., description=\"YYYY-MM-DD\"),\n",
    "    limit: int = Query(10, ge=1, le=50, description=\"Number of headlines\")\n",
    "):\n",
    "    articles_for_day = [a for a in docs if a.get(\"pub_date\", \"\")[:10] == date]\n",
    "    articles_for_day.sort(key=score, reverse=True)\n",
    "    top_articles = articles_for_day[:limit]\n",
    "\n",
    "    return {\n",
    "        \"date\": date,\n",
    "        \"count\": len(top_articles),\n",
    "        \"headlines\": [\n",
    "            {\"headline\": a[\"headline\"][\"main\"],\n",
    "             \"section\": a.get(\"section_name\"),\n",
    "             \"url\": a[\"web_url\"]}\n",
    "            for a in top_articles\n",
    "        ]\n",
    "    }\n"
   ]
  },
  {
   "cell_type": "code",
   "execution_count": null,
   "id": "28866556-a04b-4d0a-ba60-32c01b86d951",
   "metadata": {},
   "outputs": [],
   "source": [
    "# Start the FastAPI server on your computer at http://127.0.0.1:8000\n",
    "uvicorn.run(app, host=\"127.0.0.1\", port=8000)"
   ]
  }
 ],
 "metadata": {
  "kernelspec": {
   "display_name": "Python 3 (ipykernel)",
   "language": "python",
   "name": "python3"
  },
  "language_info": {
   "codemirror_mode": {
    "name": "ipython",
    "version": 3
   },
   "file_extension": ".py",
   "mimetype": "text/x-python",
   "name": "python",
   "nbconvert_exporter": "python",
   "pygments_lexer": "ipython3",
   "version": "3.12.4"
  }
 },
 "nbformat": 4,
 "nbformat_minor": 5
}
